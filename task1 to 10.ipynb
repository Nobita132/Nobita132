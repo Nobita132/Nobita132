{
 "cells": [
  {
   "cell_type": "code",
   "execution_count": null,
   "id": "19244505-cf74-471d-a433-34d74d5f469b",
   "metadata": {},
   "outputs": [],
   "source": [
    "Task1:\n",
    "\n",
    "Li1 = [2,3,4,5,[45,56,67,78,[111,222,333,[5555,3333,[10000,50000,\"python\",\"computer\"],1111,7777,8888],444,555,666,777],89,23,34]]\n",
    "\n",
    "5\n",
    "56\n",
    "222\n",
    "50000\n",
    "put\n",
    "5555\n",
    "7777\n",
    "666\n",
    "89\n",
    "on\n",
    "333\n",
    "3333"
   ]
  },
  {
   "cell_type": "code",
   "execution_count": 19,
   "id": "6ddda891-80c3-4c5d-9144-f820551a09b2",
   "metadata": {},
   "outputs": [
    {
     "name": "stdout",
     "output_type": "stream",
     "text": [
      "5\n",
      "56\n",
      "222\n",
      "50000\n",
      "put\n",
      "5555\n",
      "7777\n",
      "666\n",
      "89\n",
      "on\n",
      "333\n",
      "3333\n"
     ]
    }
   ],
   "source": [
    "li = [2,3,4,5,[45,56,67,78,[111,222,333,[5555,3333,[10000,50000,\"python\",\"computer\"],1111,7777,8888],444,555,666,777],89,23,34]]\n",
    "print(li[3])\n",
    "print(li[4][1])\n",
    "print(li[4][4][1])\n",
    "print(li[4][4][3][2][1])\n",
    "print(li[4][4][3][2][3][3:6])\n",
    "print(li[4][4][3][0])\n",
    "print(li[4][4][3][4])\n",
    "print(li[4][4][6])\n",
    "print(li[4][-3])\n",
    "print(li[4][4][3][2][2][-2:])\n",
    "print(li[4][4][2])\n",
    "print(li[4][4][3][1])\n"
   ]
  },
  {
   "cell_type": "code",
   "execution_count": 25,
   "id": "1750fee7-674c-4f8d-a002-3ddbea88c80a",
   "metadata": {},
   "outputs": [
    {
     "name": "stdout",
     "output_type": "stream",
     "text": [
      "science\n",
      "Computer\n"
     ]
    }
   ],
   "source": [
    "#Task2\n",
    "\n",
    "\n",
    "a = [1,2,3,4,[100,101,102,\"Computer_science\"],200,203]\n",
    "\n",
    "#Extract\n",
    "#science\n",
    "#computer\n",
    "print(a[4][3][9:])\n",
    "print(a[4][3][:8])"
   ]
  },
  {
   "cell_type": "code",
   "execution_count": 37,
   "id": "9f344a76-8747-45eb-9e68-7af4b328a4ec",
   "metadata": {},
   "outputs": [
    {
     "name": "stdout",
     "output_type": "stream",
     "text": [
      "666\n",
      "201\n",
      "102\n",
      "999\n",
      "777\n"
     ]
    }
   ],
   "source": [
    "#Task3\n",
    "a = [1,2,3,4,[101,102,103,[201,202,[999]], 666, 777]]\n",
    "\n",
    "#Extract\n",
    "#666\n",
    "#201\n",
    "#102\n",
    "#999\n",
    "#777\n",
    "print(a[4][4])\n",
    "print(a[4][3][0])\n",
    "print(a[4][1])\n",
    "print(a[4][3][2][0])\n",
    "print(a[4][5])\n",
    "\n"
   ]
  },
  {
   "cell_type": "code",
   "execution_count": 2,
   "id": "4fa4d4ee-040a-4122-936f-07f72bcab6ce",
   "metadata": {},
   "outputs": [
    {
     "name": "stdout",
     "output_type": "stream",
     "text": [
      "ll\n",
      "thon\n"
     ]
    }
   ],
   "source": [
    "#Task4:\n",
    "\n",
    "li = [2,3,\"python\",\"hello\",4,5,0]  \n",
    "\n",
    "#Extract\n",
    "#ll\n",
    "#thon\n",
    "print(li[3][2:-1])\n",
    "print(li[2][2:])"
   ]
  },
  {
   "cell_type": "code",
   "execution_count": null,
   "id": "d9a179f9-96c6-4961-bd84-381d49537c2d",
   "metadata": {},
   "outputs": [],
   "source": [
    "Task5\n",
    "Li1 = [1,2,3,4,5,[11,22,33,44,55,[111,222,333,444],6666,7777],7777]\n",
    "Output Prediction \n",
    "print(Li1[5][0])#11\n",
    "print(Li1[5][6])#6666\n",
    "print(Li1[5][-2])#6666\n",
    "print(Li1[5][7])#7777\n",
    "print(Li1[6])#7777\n",
    "print(Li1[5][5][1])#222\n",
    "print(Li1[-2][-1])#7777\n",
    "print(Li1[-2][2:4])#[33,44]"
   ]
  },
  {
   "cell_type": "code",
   "execution_count": 10,
   "id": "631fd796-9966-4b4c-abf4-d0abc4f08995",
   "metadata": {},
   "outputs": [
    {
     "name": "stdout",
     "output_type": "stream",
     "text": [
      "py\n",
      "ello\n",
      "en\n",
      "zoo\n",
      "Bot\n"
     ]
    }
   ],
   "source": [
    "#Task6:\n",
    "a = {1: [1,2,3,\"python\"], 2:{10:\"hello\",20:\"welcome\",40: \"science\"}, 99: {3,4,5,6}, 40:{1:\"zoology\", 2:\"Botany\"}}\n",
    "#py\n",
    "#ello\n",
    "#en\n",
    "#zoo\n",
    "#Bot\n",
    "print(a[1][3][:2])\n",
    "print(a[2][10][1:])\n",
    "print(a[2][40][3:5])\n",
    "print(a[40][1][:3])\n",
    "print(a[40][2][:3])"
   ]
  },
  {
   "cell_type": "code",
   "execution_count": 16,
   "id": "db2c2ac7-9201-47a3-af10-387293e7efc8",
   "metadata": {},
   "outputs": [
    {
     "name": "stdout",
     "output_type": "stream",
     "text": [
      "{1: 'python', 2: 'cpp', 3: 'c', 4: 'java', 5: 'php'}\n"
     ]
    }
   ],
   "source": [
    "#Task7:\n",
    "\n",
    "#Covert below two lists in to a dictionary\n",
    "\n",
    "a=[1,2,3,4,5]\n",
    "b=[\"python\",\"cpp\",\"c\",\"java\",\"php\"]\n",
    "print(dict(zip(a,b)))"
   ]
  },
  {
   "cell_type": "code",
   "execution_count": 19,
   "id": "bc125795-2858-4b0d-8618-5015fad62a98",
   "metadata": {},
   "outputs": [
    {
     "name": "stdout",
     "output_type": "stream",
     "text": [
      "[1, 2, 3, 4, 5, 6, 7]\n"
     ]
    }
   ],
   "source": [
    "#Task8:\n",
    "\n",
    "#Convert below set in to a list\n",
    "\n",
    "a={5,4,3,6,2,7,1}\n",
    "print(list(set(a)))"
   ]
  },
  {
   "cell_type": "code",
   "execution_count": 25,
   "id": "89089fe1-0839-46f7-85dd-f18d5dbf1f6e",
   "metadata": {},
   "outputs": [
    {
     "name": "stdout",
     "output_type": "stream",
     "text": [
      "[1, 2, 3, 4, 5, 6, 7]\n"
     ]
    }
   ],
   "source": [
    "#Task9:\n",
    "\n",
    "#Remove duplicates from below list\n",
    "\n",
    "a=[5,4,3,6,2,7,1,2,3,4,1,2,3,4,5,6,5]\n",
    "print(list(set(a)))"
   ]
  },
  {
   "cell_type": "code",
   "execution_count": 26,
   "id": "cd62264b-1ad8-45cf-8489-091613d5015a",
   "metadata": {},
   "outputs": [
    {
     "name": "stdout",
     "output_type": "stream",
     "text": [
      "(5, 4, 3, 6, 2, 7, 1, 2, 3, 4, 1, 2, 3, 4, 5, 6, 5)\n"
     ]
    }
   ],
   "source": [
    "#Task10:\n",
    "\n",
    "#Convert below one to tuple\n",
    "\n",
    "a=[5,4,3,6,2,7,1,2,3,4,1,2,3,4,5,6,5]\n",
    "print(tuple(a))\n"
   ]
  },
  {
   "cell_type": "code",
   "execution_count": null,
   "id": "a49f8802-c723-45a7-8ebe-8164bcef51fb",
   "metadata": {},
   "outputs": [],
   "source": []
  }
 ],
 "metadata": {
  "kernelspec": {
   "display_name": "Python 3 (ipykernel)",
   "language": "python",
   "name": "python3"
  },
  "language_info": {
   "codemirror_mode": {
    "name": "ipython",
    "version": 3
   },
   "file_extension": ".py",
   "mimetype": "text/x-python",
   "name": "python",
   "nbconvert_exporter": "python",
   "pygments_lexer": "ipython3",
   "version": "3.12.4"
  }
 },
 "nbformat": 4,
 "nbformat_minor": 5
}
